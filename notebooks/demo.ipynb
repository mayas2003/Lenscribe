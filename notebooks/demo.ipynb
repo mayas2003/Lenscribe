﻿{
 "cells": [
  {
   "cell_type": "markdown",
   "metadata": {},
   "source": [
    "# Lenscribe - VGG16 and BLIP Demo\n",
    "\n",
    "This notebook demonstrates how to use VGG16 and BLIP models for computer vision and vision-language tasks."
   ]
  },
  {
   "cell_type": "code",
   "execution_count": null,
   "metadata": {},
   "outputs": [],
   "source": [
    "# Import required libraries\n",
    "import sys\n",
    "import os\n",
    "sys.path.append('..')\n",
    "\n",
    "from src.models.vgg16_classifier import VGG16Classifier\n",
    "from src.models.blip_processor import BLIPProcessor\n",
    "from src.utils.image_processor import ImageProcessor\n",
    "import matplotlib.pyplot as plt\n",
    "from PIL import Image"
   ]
  },
  {
   "cell_type": "markdown",
   "metadata": {},
   "source": [
    "## Initialize Models"
   ]
  },
  {
   "cell_type": "code",
   "execution_count": null,
   "metadata": {},
   "outputs": [],
   "source": [
    "# Initialize VGG16 classifier\n",
    "vgg16 = VGG16Classifier()\n",
    "print(\"VGG16 model loaded successfully!\")\n",
    "\n",
    "# Initialize BLIP processor\n",
    "blip = BLIPProcessor()\n",
    "print(f\"BLIP model loaded successfully! {blip.get_device_info()}\")"
   ]
  },
  {
   "cell_type": "markdown",
   "metadata": {},
   "source": [
    "## Load and Display Image"
   ]
  },
  {
   "cell_type": "code",
   "execution_count": null,
   "metadata": {},
   "outputs": [],
   "source": [
    "# Load an image (replace with your image path)\n",
    "image_path = \"path/to/your/image.jpg\"\n",
    "\n",
    "# Load and display the image\n",
    "image = ImageProcessor.load_image(image_path)\n",
    "ImageProcessor.display_image(image, \"Original Image\")"
   ]
  },
  {
   "cell_type": "markdown",
   "metadata": {},
   "source": [
    "## VGG16 Image Classification"
   ]
  },
  {
   "cell_type": "code",
   "execution_count": null,
   "metadata": {},
   "outputs": [],
   "source": [
    "# Classify the image using VGG16\n",
    "predictions = vgg16.predict(image_path, top_k=5)\n",
    "\n",
    "print(\"VGG16 Predictions:\")\n",
    "for i, (class_id, class_name, confidence) in enumerate(predictions, 1):\n",
    "    print(f\"{i}. {class_name}: {confidence:.4f}\")"
   ]
  },
  {
   "cell_type": "markdown",
   "metadata": {},
   "source": [
    "## BLIP Image Captioning"
   ]
  },
  {
   "cell_type": "code",
   "execution_count": null,
   "metadata": {},
   "outputs": [],
   "source": [
    "# Generate caption using BLIP\n",
    "caption = blip.generate_caption(image_path)\n",
    "print(f\"Generated Caption: {caption}\")\n",
    "\n",
    "# Generate multiple captions\n",
    "captions = blip.generate_multiple_captions(image_path, num_captions=3)\n",
    "print(\"\\nMultiple Captions:\")\n",
    "for i, cap in enumerate(captions, 1):\n",
    "    print(f\"{i}. {cap}\")"
   ]
  },
  {
   "cell_type": "markdown",
   "metadata": {},
   "source": [
    "## BLIP Visual Question Answering"
   ]
  },
  {
   "cell_type": "code",
   "execution_count": null,
   "metadata": {},
   "outputs": [],
   "source": [
    "# Ask questions about the image\n",
    "questions = [\n",
    "    \"What is in this image?\",\n",
    "    \"What colors are prominent?\",\n",
    "    \"How many objects can you see?\"\n",
    "]\n",
    "\n",
    "for question in questions:\n",
    "    answer = blip.answer_question(image_path, question)\n",
    "    print(f\"Q: {question}\")\n",
    "    print(f\"A: {answer}\\n\")"
   ]
  },
  {
   "cell_type": "markdown",
   "metadata": {},
   "source": [
    "## Feature Extraction"
   ]
  },
  {
   "cell_type": "code",
   "execution_count": null,
   "metadata": {},
   "outputs": [],
   "source": [
    "# Extract features using VGG16\n",
    "features = vgg16.extract_features(image_path)\n",
    "print(f\"VGG16 Feature vector shape: {features.shape}\")\n",
    "print(f\"Feature vector (first 10 values): {features[:10]}\")"
   ]
  }
 ],
 "metadata": {
  "kernelspec": {
   "display_name": "Python 3",
   "language": "python",
   "name": "python3"
  },
  "language_info": {
   "codemirror_mode": {
    "name": "ipython",
    "version": 3
   },
   "file_extension": ".py",
   "mimetype": "text/x-python",
   "name": "python",
   "nbconvert_exporter": "python",
   "pygments_lexer": "ipython3",
   "version": "3.8.5"
  }
 },
 "nbformat": 4,
 "nbformat_minor": 4
}
